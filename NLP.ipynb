{
 "cells": [
  {
   "cell_type": "markdown",
   "metadata": {},
   "source": [
    "# Import data "
   ]
  },
  {
   "cell_type": "code",
   "execution_count": 1,
   "metadata": {},
   "outputs": [],
   "source": [
    "import pandas as pd\n",
    "import re\n",
    "import matplotlib.pyplot as plt\n",
    "%matplotlib inline\n",
    "\n",
    "# Utility\n",
    "import numpy as np\n",
    "import os\n",
    "from collections import Counter\n",
    "import time\n",
    "import pickle\n",
    "import itertools"
   ]
  },
  {
   "cell_type": "code",
   "execution_count": 2,
   "metadata": {},
   "outputs": [],
   "source": [
    "# SENTIMENT\n",
    "POSITIVE = \"POSITIVE\"\n",
    "NEGATIVE = \"NEGATIVE\"\n",
    "NEUTRAL = \"NEUTRAL\"\n",
    "SENTIMENT_THRESHOLDS = (0.4, 0.7)"
   ]
  },
  {
   "cell_type": "code",
   "execution_count": 3,
   "metadata": {},
   "outputs": [],
   "source": [
    "DATASET_COLUMNS = [\"target\", \"ids\", \"date\", \"flag\", \"user\", \"text\"]\n",
    "\n",
    "data = pd.read_csv(\"data/tweets.csv\", encoding =\"ISO-8859-1\" , names=DATASET_COLUMNS)"
   ]
  },
  {
   "cell_type": "code",
   "execution_count": 4,
   "metadata": {},
   "outputs": [
    {
     "data": {
      "text/html": [
       "<div>\n",
       "<style scoped>\n",
       "    .dataframe tbody tr th:only-of-type {\n",
       "        vertical-align: middle;\n",
       "    }\n",
       "\n",
       "    .dataframe tbody tr th {\n",
       "        vertical-align: top;\n",
       "    }\n",
       "\n",
       "    .dataframe thead th {\n",
       "        text-align: right;\n",
       "    }\n",
       "</style>\n",
       "<table border=\"1\" class=\"dataframe\">\n",
       "  <thead>\n",
       "    <tr style=\"text-align: right;\">\n",
       "      <th></th>\n",
       "      <th>target</th>\n",
       "      <th>ids</th>\n",
       "      <th>date</th>\n",
       "      <th>flag</th>\n",
       "      <th>user</th>\n",
       "      <th>text</th>\n",
       "    </tr>\n",
       "  </thead>\n",
       "  <tbody>\n",
       "    <tr>\n",
       "      <th>0</th>\n",
       "      <td>0</td>\n",
       "      <td>1467810369</td>\n",
       "      <td>Mon Apr 06 22:19:45 PDT 2009</td>\n",
       "      <td>NO_QUERY</td>\n",
       "      <td>_TheSpecialOne_</td>\n",
       "      <td>@switchfoot http://twitpic.com/2y1zl - Awww, t...</td>\n",
       "    </tr>\n",
       "    <tr>\n",
       "      <th>1</th>\n",
       "      <td>0</td>\n",
       "      <td>1467810672</td>\n",
       "      <td>Mon Apr 06 22:19:49 PDT 2009</td>\n",
       "      <td>NO_QUERY</td>\n",
       "      <td>scotthamilton</td>\n",
       "      <td>is upset that he can't update his Facebook by ...</td>\n",
       "    </tr>\n",
       "    <tr>\n",
       "      <th>2</th>\n",
       "      <td>0</td>\n",
       "      <td>1467810917</td>\n",
       "      <td>Mon Apr 06 22:19:53 PDT 2009</td>\n",
       "      <td>NO_QUERY</td>\n",
       "      <td>mattycus</td>\n",
       "      <td>@Kenichan I dived many times for the ball. Man...</td>\n",
       "    </tr>\n",
       "    <tr>\n",
       "      <th>3</th>\n",
       "      <td>0</td>\n",
       "      <td>1467811184</td>\n",
       "      <td>Mon Apr 06 22:19:57 PDT 2009</td>\n",
       "      <td>NO_QUERY</td>\n",
       "      <td>ElleCTF</td>\n",
       "      <td>my whole body feels itchy and like its on fire</td>\n",
       "    </tr>\n",
       "    <tr>\n",
       "      <th>4</th>\n",
       "      <td>0</td>\n",
       "      <td>1467811193</td>\n",
       "      <td>Mon Apr 06 22:19:57 PDT 2009</td>\n",
       "      <td>NO_QUERY</td>\n",
       "      <td>Karoli</td>\n",
       "      <td>@nationwideclass no, it's not behaving at all....</td>\n",
       "    </tr>\n",
       "  </tbody>\n",
       "</table>\n",
       "</div>"
      ],
      "text/plain": [
       "   target         ids                          date      flag  \\\n",
       "0       0  1467810369  Mon Apr 06 22:19:45 PDT 2009  NO_QUERY   \n",
       "1       0  1467810672  Mon Apr 06 22:19:49 PDT 2009  NO_QUERY   \n",
       "2       0  1467810917  Mon Apr 06 22:19:53 PDT 2009  NO_QUERY   \n",
       "3       0  1467811184  Mon Apr 06 22:19:57 PDT 2009  NO_QUERY   \n",
       "4       0  1467811193  Mon Apr 06 22:19:57 PDT 2009  NO_QUERY   \n",
       "\n",
       "              user                                               text  \n",
       "0  _TheSpecialOne_  @switchfoot http://twitpic.com/2y1zl - Awww, t...  \n",
       "1    scotthamilton  is upset that he can't update his Facebook by ...  \n",
       "2         mattycus  @Kenichan I dived many times for the ball. Man...  \n",
       "3          ElleCTF    my whole body feels itchy and like its on fire   \n",
       "4           Karoli  @nationwideclass no, it's not behaving at all....  "
      ]
     },
     "execution_count": 4,
     "metadata": {},
     "output_type": "execute_result"
    }
   ],
   "source": [
    "data.head()"
   ]
  },
  {
   "cell_type": "code",
   "execution_count": 5,
   "metadata": {},
   "outputs": [],
   "source": [
    "dataset= data[data['text'].notnull()]\n",
    "dataset.reset_index(drop=True, inplace=True)\n",
    "documents = dataset[\"text\"][:10000]"
   ]
  },
  {
   "cell_type": "code",
   "execution_count": 6,
   "metadata": {},
   "outputs": [
    {
     "data": {
      "text/plain": [
       "0    @switchfoot http://twitpic.com/2y1zl - Awww, t...\n",
       "1    is upset that he can't update his Facebook by ...\n",
       "2    @Kenichan I dived many times for the ball. Man...\n",
       "3      my whole body feels itchy and like its on fire \n",
       "4    @nationwideclass no, it's not behaving at all....\n",
       "Name: text, dtype: object"
      ]
     },
     "execution_count": 6,
     "metadata": {},
     "output_type": "execute_result"
    }
   ],
   "source": [
    "documents.head()"
   ]
  },
  {
   "cell_type": "code",
   "execution_count": 7,
   "metadata": {},
   "outputs": [],
   "source": [
    "decode_map = {0: \"NEGATIVE\", 2: \"NEUTRAL\", 4: \"POSITIVE\"}\n",
    "def decode_sentiment(label):\n",
    "    return decode_map[int(label)]\n",
    "\n",
    "data.target = data.target.apply(lambda x: decode_sentiment(x))"
   ]
  },
  {
   "cell_type": "code",
   "execution_count": 8,
   "metadata": {},
   "outputs": [
    {
     "data": {
      "text/plain": [
       "Text(0.5, 1.0, 'Dataset labels distribution')"
      ]
     },
     "execution_count": 8,
     "metadata": {},
     "output_type": "execute_result"
    },
    {
     "data": {
      "image/png": "[encoded data removed]",
      "text/plain": [
       "<Figure size 576x288 with 1 Axes>"
      ]
     },
     "metadata": {
      "needs_background": "light"
     },
     "output_type": "display_data"
    }
   ],
   "source": [
    "target_cnt = Counter(data.target)\n",
    "\n",
    "plt.figure(figsize=(8,4))\n",
    "plt.bar([tar for tar in target_cnt.keys()], [target_cnt[tar]for tar in target_cnt.keys()])\n",
    "plt.title(\"Dataset labels distribution\")"
   ]
  },
  {
   "cell_type": "markdown",
   "metadata": {},
   "source": [
    "# Data Preprocessing"
   ]
  },
  {
   "cell_type": "code",
   "execution_count": 9,
   "metadata": {},
   "outputs": [],
   "source": [
    "import gensim\n",
    "from gensim.utils import simple_preprocess\n",
    "from gensim.parsing.preprocessing import STOPWORDS\n",
    "from nltk.stem import WordNetLemmatizer, SnowballStemmer\n",
    "from nltk.stem.porter import *\n",
    "import numpy as np\n",
    "np.random.seed(2018)"
   ]
  },
  {
   "cell_type": "code",
   "execution_count": 10,
   "metadata": {},
   "outputs": [
    {
     "name": "stderr",
     "output_type": "stream",
     "text": [
      "[nltk_data] Downloading package wordnet to\n",
      "[nltk_data]     C:\\Users\\F376507\\AppData\\Roaming\\nltk_data...\n",
      "[nltk_data]   Package wordnet is already up-to-date!\n"
     ]
    },
    {
     "data": {
      "text/plain": [
       "True"
      ]
     },
     "execution_count": 10,
     "metadata": {},
     "output_type": "execute_result"
    }
   ],
   "source": [
    "import nltk\n",
    "nltk.set_proxy('http://10.225.92.1:80', user=None, password='')\n",
    "nltk.download('wordnet')\n"
   ]
  },
  {
   "cell_type": "markdown",
   "metadata": {},
   "source": [
    "### Lemmatize example"
   ]
  },
  {
   "cell_type": "code",
   "execution_count": 11,
   "metadata": {},
   "outputs": [
    {
     "name": "stdout",
     "output_type": "stream",
     "text": [
      "go\n"
     ]
    }
   ],
   "source": [
    "print(WordNetLemmatizer().lemmatize('went', pos='v'))"
   ]
  },
  {
   "cell_type": "markdown",
   "metadata": {},
   "source": [
    "### Stemmer example"
   ]
  },
  {
   "cell_type": "code",
   "execution_count": 12,
   "metadata": {},
   "outputs": [
    {
     "data": {
      "text/html": [
       "<div>\n",
       "<style scoped>\n",
       "    .dataframe tbody tr th:only-of-type {\n",
       "        vertical-align: middle;\n",
       "    }\n",
       "\n",
       "    .dataframe tbody tr th {\n",
       "        vertical-align: top;\n",
       "    }\n",
       "\n",
       "    .dataframe thead th {\n",
       "        text-align: right;\n",
       "    }\n",
       "</style>\n",
       "<table border=\"1\" class=\"dataframe\">\n",
       "  <thead>\n",
       "    <tr style=\"text-align: right;\">\n",
       "      <th></th>\n",
       "      <th>original word</th>\n",
       "      <th>stemmed</th>\n",
       "    </tr>\n",
       "  </thead>\n",
       "  <tbody>\n",
       "    <tr>\n",
       "      <th>0</th>\n",
       "      <td>caresses</td>\n",
       "      <td>caress</td>\n",
       "    </tr>\n",
       "    <tr>\n",
       "      <th>1</th>\n",
       "      <td>flies</td>\n",
       "      <td>fli</td>\n",
       "    </tr>\n",
       "    <tr>\n",
       "      <th>2</th>\n",
       "      <td>dies</td>\n",
       "      <td>die</td>\n",
       "    </tr>\n",
       "    <tr>\n",
       "      <th>3</th>\n",
       "      <td>mules</td>\n",
       "      <td>mule</td>\n",
       "    </tr>\n",
       "    <tr>\n",
       "      <th>4</th>\n",
       "      <td>denied</td>\n",
       "      <td>deni</td>\n",
       "    </tr>\n",
       "    <tr>\n",
       "      <th>5</th>\n",
       "      <td>died</td>\n",
       "      <td>die</td>\n",
       "    </tr>\n",
       "    <tr>\n",
       "      <th>6</th>\n",
       "      <td>agreed</td>\n",
       "      <td>agre</td>\n",
       "    </tr>\n",
       "    <tr>\n",
       "      <th>7</th>\n",
       "      <td>owned</td>\n",
       "      <td>own</td>\n",
       "    </tr>\n",
       "    <tr>\n",
       "      <th>8</th>\n",
       "      <td>humbled</td>\n",
       "      <td>humbl</td>\n",
       "    </tr>\n",
       "    <tr>\n",
       "      <th>9</th>\n",
       "      <td>sized</td>\n",
       "      <td>size</td>\n",
       "    </tr>\n",
       "    <tr>\n",
       "      <th>10</th>\n",
       "      <td>meeting</td>\n",
       "      <td>meet</td>\n",
       "    </tr>\n",
       "    <tr>\n",
       "      <th>11</th>\n",
       "      <td>stating</td>\n",
       "      <td>state</td>\n",
       "    </tr>\n",
       "    <tr>\n",
       "      <th>12</th>\n",
       "      <td>siezing</td>\n",
       "      <td>siez</td>\n",
       "    </tr>\n",
       "    <tr>\n",
       "      <th>13</th>\n",
       "      <td>itemization</td>\n",
       "      <td>item</td>\n",
       "    </tr>\n",
       "    <tr>\n",
       "      <th>14</th>\n",
       "      <td>sensational</td>\n",
       "      <td>sensat</td>\n",
       "    </tr>\n",
       "    <tr>\n",
       "      <th>15</th>\n",
       "      <td>traditional</td>\n",
       "      <td>tradit</td>\n",
       "    </tr>\n",
       "    <tr>\n",
       "      <th>16</th>\n",
       "      <td>reference</td>\n",
       "      <td>refer</td>\n",
       "    </tr>\n",
       "    <tr>\n",
       "      <th>17</th>\n",
       "      <td>colonizer</td>\n",
       "      <td>colon</td>\n",
       "    </tr>\n",
       "    <tr>\n",
       "      <th>18</th>\n",
       "      <td>plotted</td>\n",
       "      <td>plot</td>\n",
       "    </tr>\n",
       "  </tbody>\n",
       "</table>\n",
       "</div>"
      ],
      "text/plain": [
       "   original word stemmed\n",
       "0       caresses  caress\n",
       "1          flies     fli\n",
       "2           dies     die\n",
       "3          mules    mule\n",
       "4         denied    deni\n",
       "5           died     die\n",
       "6         agreed    agre\n",
       "7          owned     own\n",
       "8        humbled   humbl\n",
       "9          sized    size\n",
       "10       meeting    meet\n",
       "11       stating   state\n",
       "12       siezing    siez\n",
       "13   itemization    item\n",
       "14   sensational  sensat\n",
       "15   traditional  tradit\n",
       "16     reference   refer\n",
       "17     colonizer   colon\n",
       "18       plotted    plot"
      ]
     },
     "execution_count": 12,
     "metadata": {},
     "output_type": "execute_result"
    }
   ],
   "source": [
    "stemmer = SnowballStemmer('english')\n",
    "original_words = ['caresses', 'flies', 'dies', 'mules', 'denied','died', 'agreed', 'owned', \n",
    "           'humbled', 'sized','meeting', 'stating', 'siezing', 'itemization','sensational', \n",
    "           'traditional', 'reference', 'colonizer','plotted']\n",
    "singles = [stemmer.stem(plural) for plural in original_words]\n",
    "pd.DataFrame(data = {'original word': original_words, 'stemmed': singles})"
   ]
  },
  {
   "cell_type": "code",
   "execution_count": 13,
   "metadata": {},
   "outputs": [],
   "source": [
    "def lemmatize_stemming(text):\n",
    "    return stemmer.stem(WordNetLemmatizer().lemmatize(text, pos='v'))\n",
    "\n",
    "TEXT_CLEANING_RE = \"@\\S+|https?:\\S+|http?:\\S|[^A-Za-z0-9]+\"\n",
    "\n",
    "def preprocess(text):\n",
    "    text = re.sub(TEXT_CLEANING_RE, ' ', str(text).lower()).strip()\n",
    "    result = []\n",
    "    for token in gensim.utils.simple_preprocess(text):\n",
    "        if token not in gensim.parsing.preprocessing.STOPWORDS and len(token) > 2:\n",
    "            result.append(lemmatize_stemming(token))\n",
    "    return result\n"
   ]
  },
  {
   "cell_type": "code",
   "execution_count": 14,
   "metadata": {},
   "outputs": [],
   "source": [
    "doc_sample = documents[:10].values[0]"
   ]
  },
  {
   "cell_type": "code",
   "execution_count": 15,
   "metadata": {},
   "outputs": [
    {
     "name": "stdout",
     "output_type": "stream",
     "text": [
      "original document: \n",
      "['@switchfoot', 'http://twitpic.com/2y1zl', '-', 'Awww,', \"that's\", 'a', 'bummer.', '', 'You', 'shoulda', 'got', 'David', 'Carr', 'of', 'Third', 'Day', 'to', 'do', 'it.', ';D']\n",
      "\n",
      "\n",
      " tokenized and lemmatized document: \n",
      "['awww', 'bummer', 'shoulda', 'get', 'david', 'carr', 'day']\n"
     ]
    }
   ],
   "source": [
    "print('original document: ')\n",
    "words = []\n",
    "for word in doc_sample.split(' '):\n",
    "    words.append(word)\n",
    "print(words)\n",
    "print('\\n\\n tokenized and lemmatized document: ')\n",
    "print(preprocess(doc_sample))"
   ]
  },
  {
   "cell_type": "code",
   "execution_count": 16,
   "metadata": {},
   "outputs": [],
   "source": [
    "processed_docs = documents.map(preprocess)"
   ]
  },
  {
   "cell_type": "code",
   "execution_count": 17,
   "metadata": {},
   "outputs": [
    {
     "data": {
      "text/plain": [
       "0       [awww, bummer, shoulda, get, david, carr, day]\n",
       "1    [upset, updat, facebook, text, result, school,...\n",
       "2         [dive, time, ball, manag, save, rest, bound]\n",
       "3                            [bodi, feel, itchi, like]\n",
       "4                                         [behav, mad]\n",
       "5                                               [crew]\n",
       "6                                          [need, hug]\n",
       "7    [hey, long, time, yes, rain, bite, bite, lol, ...\n",
       "8                                               [nope]\n",
       "9                                         [que, muera]\n",
       "Name: text, dtype: object"
      ]
     },
     "execution_count": 17,
     "metadata": {},
     "output_type": "execute_result"
    }
   ],
   "source": [
    "processed_docs[:10]"
   ]
  },
  {
   "cell_type": "markdown",
   "metadata": {},
   "source": [
    "# Bag of words on the dataset"
   ]
  },
  {
   "cell_type": "code",
   "execution_count": 18,
   "metadata": {},
   "outputs": [],
   "source": [
    "dictionary = gensim.corpora.Dictionary(processed_docs)"
   ]
  },
  {
   "cell_type": "code",
   "execution_count": 19,
   "metadata": {},
   "outputs": [
    {
     "name": "stdout",
     "output_type": "stream",
     "text": [
      "0 awww\n",
      "1 bummer\n",
      "2 carr\n",
      "3 david\n",
      "4 day\n",
      "5 get\n",
      "6 shoulda\n",
      "7 blah\n",
      "8 facebook\n",
      "9 result\n",
      "10 school\n"
     ]
    }
   ],
   "source": [
    "count = 0\n",
    "for k, v in dictionary.iteritems():\n",
    "    print(k, v)\n",
    "    count += 1\n",
    "    if count > 10:\n",
    "        break"
   ]
  },
  {
   "cell_type": "code",
   "execution_count": 20,
   "metadata": {},
   "outputs": [],
   "source": [
    "#Filter out toke when they appearns feuw times and a lot of times\n",
    "# And then keep the 100000 more frequent tokens\n",
    "dictionary.filter_extremes(no_below=15, no_above=0.5, keep_n=100000)"
   ]
  },
  {
   "cell_type": "code",
   "execution_count": 21,
   "metadata": {},
   "outputs": [
    {
     "data": {
      "text/plain": [
       "[(11, 1), (12, 1), (13, 1), (14, 1)]"
      ]
     },
     "execution_count": 21,
     "metadata": {},
     "output_type": "execute_result"
    }
   ],
   "source": [
    "bow_corpus = [dictionary.doc2bow(doc) for doc in processed_docs]\n",
    "bow_corpus[2]"
   ]
  },
  {
   "cell_type": "code",
   "execution_count": 22,
   "metadata": {},
   "outputs": [
    {
     "name": "stdout",
     "output_type": "stream",
     "text": [
      "Word 11 (\"manag\") appears 1 time.\n",
      "Word 12 (\"rest\") appears 1 time.\n",
      "Word 13 (\"save\") appears 1 time.\n",
      "Word 14 (\"time\") appears 1 time.\n"
     ]
    }
   ],
   "source": [
    "bow_doc_2 = bow_corpus[2]\n",
    "\n",
    "for i in range(len(bow_doc_2)):\n",
    "    print(\"Word {} (\\\"{}\\\") appears {} time.\".format(bow_doc_2[i][0], \n",
    "                                                     dictionary[bow_doc_2[i][0]], \n",
    "                                                     bow_doc_2[i][1]))"
   ]
  },
  {
   "cell_type": "markdown",
   "metadata": {},
   "source": [
    "# TF-IDF"
   ]
  },
  {
   "cell_type": "code",
   "execution_count": 23,
   "metadata": {},
   "outputs": [],
   "source": [
    "from gensim import corpora, models\n",
    "\n",
    "tfidf = models.TfidfModel(bow_corpus)"
   ]
  },
  {
   "cell_type": "code",
   "execution_count": 24,
   "metadata": {},
   "outputs": [],
   "source": [
    "corpus_tfidf = tfidf[bow_corpus]"
   ]
  },
  {
   "cell_type": "code",
   "execution_count": 25,
   "metadata": {},
   "outputs": [
    {
     "name": "stdout",
     "output_type": "stream",
     "text": [
      "[(0, 0.5964669800362361),\n",
      " (1, 0.6827273885013042),\n",
      " (2, 0.2964472836056829),\n",
      " (3, 0.3003821944780571)]\n"
     ]
    }
   ],
   "source": [
    "from pprint import pprint\n",
    "\n",
    "for doc in corpus_tfidf:\n",
    "    pprint(doc)\n",
    "    break"
   ]
  },
  {
   "cell_type": "markdown",
   "metadata": {},
   "source": [
    "# Option 1 : Running LDA using Bag of Words WORST"
   ]
  },
  {
   "cell_type": "code",
   "execution_count": 26,
   "metadata": {},
   "outputs": [],
   "source": [
    "lda_model = gensim.models.LdaMulticore(bow_corpus, num_topics=10, id2word=dictionary, passes=2, workers=2)"
   ]
  },
  {
   "cell_type": "code",
   "execution_count": 27,
   "metadata": {},
   "outputs": [
    {
     "name": "stdout",
     "output_type": "stream",
     "text": [
      "Topic: 0 \n",
      "Words: 0.039*\"get\" + 0.027*\"sleep\" + 0.016*\"day\" + 0.016*\"think\" + 0.015*\"work\" + 0.014*\"tire\" + 0.013*\"wait\" + 0.013*\"bore\" + 0.011*\"omg\" + 0.011*\"need\"\n",
      "Topic: 1 \n",
      "Words: 0.043*\"good\" + 0.032*\"sorri\" + 0.032*\"miss\" + 0.025*\"day\" + 0.019*\"today\" + 0.018*\"time\" + 0.014*\"morn\" + 0.014*\"lol\" + 0.014*\"hope\" + 0.013*\"year\"\n",
      "Topic: 2 \n",
      "Words: 0.053*\"quot\" + 0.038*\"miss\" + 0.028*\"wish\" + 0.028*\"work\" + 0.024*\"night\" + 0.023*\"think\" + 0.016*\"go\" + 0.012*\"fun\" + 0.012*\"get\" + 0.012*\"day\"\n",
      "Topic: 3 \n",
      "Words: 0.026*\"know\" + 0.023*\"work\" + 0.023*\"hear\" + 0.022*\"sorri\" + 0.016*\"snow\" + 0.015*\"want\" + 0.015*\"sick\" + 0.014*\"start\" + 0.013*\"poor\" + 0.013*\"sad\"\n",
      "Topic: 4 \n",
      "Words: 0.034*\"go\" + 0.030*\"feel\" + 0.030*\"day\" + 0.026*\"like\" + 0.022*\"work\" + 0.017*\"sleep\" + 0.016*\"right\" + 0.015*\"wish\" + 0.014*\"play\" + 0.014*\"time\"\n",
      "Topic: 5 \n",
      "Words: 0.047*\"like\" + 0.035*\"day\" + 0.033*\"work\" + 0.028*\"go\" + 0.020*\"come\" + 0.018*\"feel\" + 0.017*\"quot\" + 0.013*\"tomorrow\" + 0.012*\"tri\" + 0.012*\"way\"\n",
      "Topic: 6 \n",
      "Words: 0.056*\"today\" + 0.023*\"want\" + 0.022*\"go\" + 0.020*\"work\" + 0.019*\"hate\" + 0.015*\"feel\" + 0.015*\"bad\" + 0.015*\"get\" + 0.014*\"watch\" + 0.012*\"hope\"\n",
      "Topic: 7 \n",
      "Words: 0.049*\"sad\" + 0.037*\"feel\" + 0.019*\"break\" + 0.018*\"think\" + 0.017*\"better\" + 0.015*\"get\" + 0.015*\"sick\" + 0.011*\"work\" + 0.011*\"bed\" + 0.011*\"win\"\n",
      "Topic: 8 \n",
      "Words: 0.058*\"work\" + 0.026*\"want\" + 0.023*\"get\" + 0.023*\"miss\" + 0.019*\"day\" + 0.017*\"know\" + 0.017*\"tonight\" + 0.016*\"long\" + 0.016*\"hour\" + 0.014*\"home\"\n",
      "Topic: 9 \n",
      "Words: 0.030*\"twitter\" + 0.028*\"want\" + 0.027*\"home\" + 0.023*\"love\" + 0.020*\"cold\" + 0.020*\"need\" + 0.017*\"get\" + 0.017*\"go\" + 0.014*\"friend\" + 0.014*\"night\"\n"
     ]
    }
   ],
   "source": [
    "for idx, topic in lda_model.print_topics(-1):\n",
    "    print('Topic: {} \\nWords: {}'.format(idx, topic))"
   ]
  },
  {
   "cell_type": "markdown",
   "metadata": {},
   "source": [
    "# Option 2 : Running LDA using TF-IDF BEST"
   ]
  },
  {
   "cell_type": "code",
   "execution_count": 28,
   "metadata": {},
   "outputs": [],
   "source": [
    "lda_model_tfidf = gensim.models.LdaMulticore(corpus_tfidf, num_topics=10, id2word=dictionary, passes=2, workers=4)"
   ]
  },
  {
   "cell_type": "code",
   "execution_count": 29,
   "metadata": {},
   "outputs": [
    {
     "name": "stdout",
     "output_type": "stream",
     "text": [
      "Topic: 0 Word: 0.027*\"sleep\" + 0.022*\"wish\" + 0.016*\"follow\" + 0.015*\"break\" + 0.013*\"need\" + 0.011*\"drink\" + 0.010*\"school\" + 0.010*\"car\" + 0.010*\"amp\" + 0.010*\"think\"\n",
      "Topic: 1 Word: 0.030*\"twitter\" + 0.028*\"watch\" + 0.014*\"wait\" + 0.011*\"man\" + 0.011*\"quot\" + 0.011*\"eat\" + 0.011*\"send\" + 0.010*\"day\" + 0.010*\"okay\" + 0.009*\"break\"\n",
      "Topic: 2 Word: 0.043*\"want\" + 0.022*\"like\" + 0.021*\"friend\" + 0.014*\"phone\" + 0.013*\"peopl\" + 0.013*\"get\" + 0.011*\"go\" + 0.010*\"earli\" + 0.010*\"pic\" + 0.009*\"miss\"\n",
      "Topic: 3 Word: 0.019*\"go\" + 0.015*\"miss\" + 0.015*\"need\" + 0.014*\"work\" + 0.014*\"good\" + 0.014*\"home\" + 0.013*\"today\" + 0.013*\"morn\" + 0.012*\"thank\" + 0.011*\"sick\"\n",
      "Topic: 4 Word: 0.047*\"work\" + 0.035*\"feel\" + 0.015*\"sit\" + 0.014*\"good\" + 0.014*\"go\" + 0.013*\"bad\" + 0.013*\"today\" + 0.013*\"better\" + 0.012*\"ill\" + 0.011*\"time\"\n",
      "Topic: 5 Word: 0.026*\"sorri\" + 0.019*\"home\" + 0.016*\"fun\" + 0.015*\"time\" + 0.014*\"go\" + 0.014*\"class\" + 0.012*\"day\" + 0.012*\"week\" + 0.011*\"aww\" + 0.011*\"think\"\n",
      "Topic: 6 Word: 0.024*\"get\" + 0.022*\"know\" + 0.021*\"tire\" + 0.020*\"work\" + 0.018*\"night\" + 0.014*\"weekend\" + 0.013*\"hate\" + 0.013*\"leav\" + 0.012*\"bore\" + 0.012*\"thing\"\n",
      "Topic: 7 Word: 0.037*\"miss\" + 0.034*\"sad\" + 0.027*\"day\" + 0.017*\"sorri\" + 0.016*\"tomorrow\" + 0.015*\"tonight\" + 0.015*\"hear\" + 0.014*\"work\" + 0.013*\"come\" + 0.012*\"want\"\n",
      "Topic: 8 Word: 0.020*\"wanna\" + 0.017*\"work\" + 0.015*\"think\" + 0.015*\"get\" + 0.013*\"today\" + 0.013*\"feel\" + 0.011*\"hour\" + 0.011*\"night\" + 0.010*\"quot\" + 0.010*\"wait\"\n",
      "Topic: 9 Word: 0.026*\"quot\" + 0.021*\"suck\" + 0.020*\"hope\" + 0.020*\"love\" + 0.017*\"snow\" + 0.014*\"gonna\" + 0.013*\"sick\" + 0.013*\"work\" + 0.012*\"lol\" + 0.011*\"day\"\n"
     ]
    }
   ],
   "source": [
    "for idx, topic in lda_model_tfidf.print_topics(-1):\n",
    "    print('Topic: {} Word: {}'.format(idx, topic))"
   ]
  },
  {
   "cell_type": "markdown",
   "metadata": {},
   "source": [
    "# Classification of the topics"
   ]
  },
  {
   "cell_type": "markdown",
   "metadata": {},
   "source": [
    "### Performance evaluation by classifying sample document using LDA Bag of Words model"
   ]
  },
  {
   "cell_type": "code",
   "execution_count": 30,
   "metadata": {},
   "outputs": [
    {
     "data": {
      "text/plain": [
       "['dive', 'time', 'ball', 'manag', 'save', 'rest', 'bound']"
      ]
     },
     "execution_count": 30,
     "metadata": {},
     "output_type": "execute_result"
    }
   ],
   "source": [
    "processed_docs[2]"
   ]
  },
  {
   "cell_type": "code",
   "execution_count": 31,
   "metadata": {},
   "outputs": [
    {
     "name": "stdout",
     "output_type": "stream",
     "text": [
      "\n",
      "Score: 0.8198950886726379\t \n",
      "Topic: 0.026*\"know\" + 0.023*\"work\" + 0.023*\"hear\" + 0.022*\"sorri\" + 0.016*\"snow\" + 0.015*\"want\" + 0.015*\"sick\" + 0.014*\"start\" + 0.013*\"poor\" + 0.013*\"sad\"\n",
      "\n",
      "Score: 0.02001735381782055\t \n",
      "Topic: 0.043*\"good\" + 0.032*\"sorri\" + 0.032*\"miss\" + 0.025*\"day\" + 0.019*\"today\" + 0.018*\"time\" + 0.014*\"morn\" + 0.014*\"lol\" + 0.014*\"hope\" + 0.013*\"year\"\n",
      "\n",
      "Score: 0.02001594379544258\t \n",
      "Topic: 0.047*\"like\" + 0.035*\"day\" + 0.033*\"work\" + 0.028*\"go\" + 0.020*\"come\" + 0.018*\"feel\" + 0.017*\"quot\" + 0.013*\"tomorrow\" + 0.012*\"tri\" + 0.012*\"way\"\n",
      "\n",
      "Score: 0.020012496039271355\t \n",
      "Topic: 0.034*\"go\" + 0.030*\"feel\" + 0.030*\"day\" + 0.026*\"like\" + 0.022*\"work\" + 0.017*\"sleep\" + 0.016*\"right\" + 0.015*\"wish\" + 0.014*\"play\" + 0.014*\"time\"\n",
      "\n",
      "Score: 0.020012298598885536\t \n",
      "Topic: 0.039*\"get\" + 0.027*\"sleep\" + 0.016*\"day\" + 0.016*\"think\" + 0.015*\"work\" + 0.014*\"tire\" + 0.013*\"wait\" + 0.013*\"bore\" + 0.011*\"omg\" + 0.011*\"need\"\n",
      "\n",
      "Score: 0.020010897889733315\t \n",
      "Topic: 0.030*\"twitter\" + 0.028*\"want\" + 0.027*\"home\" + 0.023*\"love\" + 0.020*\"cold\" + 0.020*\"need\" + 0.017*\"get\" + 0.017*\"go\" + 0.014*\"friend\" + 0.014*\"night\"\n",
      "\n",
      "Score: 0.020009944215416908\t \n",
      "Topic: 0.049*\"sad\" + 0.037*\"feel\" + 0.019*\"break\" + 0.018*\"think\" + 0.017*\"better\" + 0.015*\"get\" + 0.015*\"sick\" + 0.011*\"work\" + 0.011*\"bed\" + 0.011*\"win\"\n",
      "\n",
      "Score: 0.020009584724903107\t \n",
      "Topic: 0.058*\"work\" + 0.026*\"want\" + 0.023*\"get\" + 0.023*\"miss\" + 0.019*\"day\" + 0.017*\"know\" + 0.017*\"tonight\" + 0.016*\"long\" + 0.016*\"hour\" + 0.014*\"home\"\n",
      "\n",
      "Score: 0.020009063184261322\t \n",
      "Topic: 0.056*\"today\" + 0.023*\"want\" + 0.022*\"go\" + 0.020*\"work\" + 0.019*\"hate\" + 0.015*\"feel\" + 0.015*\"bad\" + 0.015*\"get\" + 0.014*\"watch\" + 0.012*\"hope\"\n",
      "\n",
      "Score: 0.020007340237498283\t \n",
      "Topic: 0.053*\"quot\" + 0.038*\"miss\" + 0.028*\"wish\" + 0.028*\"work\" + 0.024*\"night\" + 0.023*\"think\" + 0.016*\"go\" + 0.012*\"fun\" + 0.012*\"get\" + 0.012*\"day\"\n"
     ]
    }
   ],
   "source": [
    "for index, score in sorted(lda_model[bow_corpus[2]], key=lambda tup: -1*tup[1]):\n",
    "    print(\"\\nScore: {}\\t \\nTopic: {}\".format(score, lda_model.print_topic(index, 10)))"
   ]
  },
  {
   "cell_type": "markdown",
   "metadata": {},
   "source": [
    "### Performance evaluation by classifying sample document using LDA TF-IDF model"
   ]
  },
  {
   "cell_type": "code",
   "execution_count": 32,
   "metadata": {},
   "outputs": [
    {
     "name": "stdout",
     "output_type": "stream",
     "text": [
      "\n",
      "Score: 0.8199706673622131\t \n",
      "Topic: 0.026*\"sorri\" + 0.019*\"home\" + 0.016*\"fun\" + 0.015*\"time\" + 0.014*\"go\" + 0.014*\"class\" + 0.012*\"day\" + 0.012*\"week\" + 0.011*\"aww\" + 0.011*\"think\"\n",
      "\n",
      "Score: 0.020005393773317337\t \n",
      "Topic: 0.026*\"quot\" + 0.021*\"suck\" + 0.020*\"hope\" + 0.020*\"love\" + 0.017*\"snow\" + 0.014*\"gonna\" + 0.013*\"sick\" + 0.013*\"work\" + 0.012*\"lol\" + 0.011*\"day\"\n",
      "\n",
      "Score: 0.020003817975521088\t \n",
      "Topic: 0.043*\"want\" + 0.022*\"like\" + 0.021*\"friend\" + 0.014*\"phone\" + 0.013*\"peopl\" + 0.013*\"get\" + 0.011*\"go\" + 0.010*\"earli\" + 0.010*\"pic\" + 0.009*\"miss\"\n",
      "\n",
      "Score: 0.02000374346971512\t \n",
      "Topic: 0.019*\"go\" + 0.015*\"miss\" + 0.015*\"need\" + 0.014*\"work\" + 0.014*\"good\" + 0.014*\"home\" + 0.013*\"today\" + 0.013*\"morn\" + 0.012*\"thank\" + 0.011*\"sick\"\n",
      "\n",
      "Score: 0.020003413781523705\t \n",
      "Topic: 0.047*\"work\" + 0.035*\"feel\" + 0.015*\"sit\" + 0.014*\"good\" + 0.014*\"go\" + 0.013*\"bad\" + 0.013*\"today\" + 0.013*\"better\" + 0.012*\"ill\" + 0.011*\"time\"\n",
      "\n",
      "Score: 0.02000339888036251\t \n",
      "Topic: 0.030*\"twitter\" + 0.028*\"watch\" + 0.014*\"wait\" + 0.011*\"man\" + 0.011*\"quot\" + 0.011*\"eat\" + 0.011*\"send\" + 0.010*\"day\" + 0.010*\"okay\" + 0.009*\"break\"\n",
      "\n",
      "Score: 0.02000298537313938\t \n",
      "Topic: 0.027*\"sleep\" + 0.022*\"wish\" + 0.016*\"follow\" + 0.015*\"break\" + 0.013*\"need\" + 0.011*\"drink\" + 0.010*\"school\" + 0.010*\"car\" + 0.010*\"amp\" + 0.010*\"think\"\n",
      "\n",
      "Score: 0.020002679899334908\t \n",
      "Topic: 0.020*\"wanna\" + 0.017*\"work\" + 0.015*\"think\" + 0.015*\"get\" + 0.013*\"today\" + 0.013*\"feel\" + 0.011*\"hour\" + 0.011*\"night\" + 0.010*\"quot\" + 0.010*\"wait\"\n",
      "\n",
      "Score: 0.020002061501145363\t \n",
      "Topic: 0.024*\"get\" + 0.022*\"know\" + 0.021*\"tire\" + 0.020*\"work\" + 0.018*\"night\" + 0.014*\"weekend\" + 0.013*\"hate\" + 0.013*\"leav\" + 0.012*\"bore\" + 0.012*\"thing\"\n",
      "\n",
      "Score: 0.020001817494630814\t \n",
      "Topic: 0.037*\"miss\" + 0.034*\"sad\" + 0.027*\"day\" + 0.017*\"sorri\" + 0.016*\"tomorrow\" + 0.015*\"tonight\" + 0.015*\"hear\" + 0.014*\"work\" + 0.013*\"come\" + 0.012*\"want\"\n"
     ]
    }
   ],
   "source": [
    "for index, score in sorted(lda_model_tfidf[bow_corpus[2]], key=lambda tup: -1*tup[1]):\n",
    "    print(\"\\nScore: {}\\t \\nTopic: {}\".format(score, lda_model_tfidf.print_topic(index, 10)))"
   ]
  },
  {
   "cell_type": "markdown",
   "metadata": {},
   "source": [
    "# Testing model on unseen document"
   ]
  },
  {
   "cell_type": "code",
   "execution_count": 36,
   "metadata": {},
   "outputs": [
    {
     "name": "stdout",
     "output_type": "stream",
     "text": [
      "Score: 0.6998245716094971\t Topic: 0.030*\"twitter\" + 0.028*\"want\" + 0.027*\"home\" + 0.023*\"love\" + 0.020*\"cold\"\n",
      "Score: 0.03337667137384415\t Topic: 0.047*\"like\" + 0.035*\"day\" + 0.033*\"work\" + 0.028*\"go\" + 0.020*\"come\"\n",
      "Score: 0.03336497023701668\t Topic: 0.034*\"go\" + 0.030*\"feel\" + 0.030*\"day\" + 0.026*\"like\" + 0.022*\"work\"\n",
      "Score: 0.03336025029420853\t Topic: 0.043*\"good\" + 0.032*\"sorri\" + 0.032*\"miss\" + 0.025*\"day\" + 0.019*\"today\"\n",
      "Score: 0.03335464000701904\t Topic: 0.058*\"work\" + 0.026*\"want\" + 0.023*\"get\" + 0.023*\"miss\" + 0.019*\"day\"\n",
      "Score: 0.033350951969623566\t Topic: 0.039*\"get\" + 0.027*\"sleep\" + 0.016*\"day\" + 0.016*\"think\" + 0.015*\"work\"\n",
      "Score: 0.033345382660627365\t Topic: 0.053*\"quot\" + 0.038*\"miss\" + 0.028*\"wish\" + 0.028*\"work\" + 0.024*\"night\"\n",
      "Score: 0.0333435945212841\t Topic: 0.056*\"today\" + 0.023*\"want\" + 0.022*\"go\" + 0.020*\"work\" + 0.019*\"hate\"\n",
      "Score: 0.03334028273820877\t Topic: 0.049*\"sad\" + 0.037*\"feel\" + 0.019*\"break\" + 0.018*\"think\" + 0.017*\"better\"\n",
      "Score: 0.03333865851163864\t Topic: 0.026*\"know\" + 0.023*\"work\" + 0.023*\"hear\" + 0.022*\"sorri\" + 0.016*\"snow\"\n"
     ]
    }
   ],
   "source": [
    "unseen_document = 'I love my day'\n",
    "bow_vector = dictionary.doc2bow(preprocess(unseen_document))\n",
    "\n",
    "for index, score in sorted(lda_model[bow_vector], key=lambda tup: -1*tup[1]):\n",
    "    print(\"Score: {}\\t Topic: {}\".format(score, lda_model.print_topic(index, 5)))"
   ]
  },
  {
   "cell_type": "code",
   "execution_count": null,
   "metadata": {},
   "outputs": [],
   "source": []
  }
 ],
 "metadata": {
  "kernelspec": {
   "display_name": "Python 3",
   "language": "python",
   "name": "python3"
  },
  "language_info": {
   "codemirror_mode": {
    "name": "ipython",
    "version": 3
   },
   "file_extension": ".py",
   "mimetype": "text/x-python",
   "name": "python",
   "nbconvert_exporter": "python",
   "pygments_lexer": "ipython3",
   "version": "3.7.3"
  }
 },
 "nbformat": 4,
 "nbformat_minor": 2
}
